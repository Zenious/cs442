{
 "cells": [
  {
   "cell_type": "code",
   "execution_count": 239,
   "metadata": {},
   "outputs": [],
   "source": [
    "import pandas as pd\n",
    "import re"
   ]
  },
  {
   "cell_type": "code",
   "execution_count": 240,
   "metadata": {},
   "outputs": [],
   "source": [
    "def formatting(series):\n",
    "    for index,line in enumerate(series):\n",
    "        series[index] = re.sub(\"[a-z]\", \"\", line)\n",
    "    return series"
   ]
  },
  {
   "cell_type": "code",
   "execution_count": 241,
   "metadata": {},
   "outputs": [],
   "source": [
    "dec1k = pd.read_csv(\"result/1k-dec.result\", header=None, names=[\"1K\"]).apply(formatting)\n",
    "dec10k = pd.read_csv(\"result/10k-dec.result\", header=None, names=[\"10K\"]).apply(formatting)\n",
    "dec100k = pd.read_csv(\"result/100k-dec.result\", header=None, names=[\"100K\"]).apply(formatting)\n",
    "dec1m = pd.read_csv(\"result/1m-dec.result\", header=None, names=[\"1M\"]).apply(formatting)\n",
    "decryption_size = pd.concat([dec1k, dec10k, dec100k, dec1m], axis =1)\n",
    "enc1k = pd.read_csv(\"result/1k-enc.result\", header=None, names=[\"1K\"]).apply(formatting)\n",
    "enc10k = pd.read_csv(\"result/10k-enc.result\", header=None, names=[\"10K\"]).apply(formatting)\n",
    "enc100k = pd.read_csv(\"result/100k-enc.result\", header=None, names=[\"100K\"]).apply(formatting)\n",
    "enc1m = pd.read_csv(\"result/1m-enc.result\", header=None, names=[\"1M\"]).apply(formatting)\n",
    "encryption_size = pd.concat([enc1k, enc10k, enc100k, enc1m], axis =1)"
   ]
  },
  {
   "cell_type": "code",
   "execution_count": 242,
   "metadata": {},
   "outputs": [],
   "source": [
    "enc10 = pd.read_csv(\"result/2l10n-enc.result\", header=None, names=[\"10\"]).apply(formatting)\n",
    "enc20 = pd.read_csv(\"result/2l20n-enc.result\", header=None, names=[\"20\"]).apply(formatting)\n",
    "enc30 = pd.read_csv(\"result/2l30n-enc.result\", header=None, names=[\"30\"]).apply(formatting)\n",
    "enc40 = pd.read_csv(\"result/2l40n-enc.result\", header=None, names=[\"40\"]).apply(formatting)\n",
    "encryption_breadth = pd.concat([enc10, enc20, enc30, enc40], axis =1)\n",
    "dec10 = pd.read_csv(\"result/2l10n-dec.result\", header=None, names=[\"10\"]).apply(formatting)\n",
    "dec20 = pd.read_csv(\"result/2l20n-dec.result\", header=None, names=[\"20\"]).apply(formatting)\n",
    "dec30 = pd.read_csv(\"result/2l30n-dec.result\", header=None, names=[\"30\"]).apply(formatting)\n",
    "dec40 = pd.read_csv(\"result/2l40n-dec.result\", header=None, names=[\"40\"]).apply(formatting)\n",
    "decryption_breadth = pd.concat([dec10, dec20, dec30, dec40], axis =1)"
   ]
  },
  {
   "cell_type": "code",
   "execution_count": null,
   "metadata": {},
   "outputs": [],
   "source": []
  },
  {
   "cell_type": "code",
   "execution_count": 243,
   "metadata": {},
   "outputs": [],
   "source": [
    "dec2 = pd.read_csv(\"result/2l10n-dec.result\", header=None, names=[\"2 level\"]).apply(formatting)\n",
    "dec3 = pd.read_csv(\"result/3l10n-dec.result\", header=None, names=[\"3 level\"]).apply(formatting)\n",
    "dec4 = pd.read_csv(\"result/4l10n-dec.result\", header=None, names=[\"4 level\"]).apply(formatting)\n",
    "dec5 = pd.read_csv(\"result/5l10n-dec.result\", header=None, names=[\"5 level\"]).apply(formatting)\n",
    "decryption_depth = pd.concat([dec2, dec3, dec4, dec5], axis =1)\n"
   ]
  },
  {
   "cell_type": "code",
   "execution_count": 244,
   "metadata": {},
   "outputs": [],
   "source": [
    "enc2 = pd.read_csv(\"result/2l10n-enc.result\", header=None, names=[\"2 level\"]).apply(formatting)\n",
    "enc3 = pd.read_csv(\"result/3l10n-enc.result\", header=None, names=[\"3 level\"]).apply(formatting)\n",
    "enc4 = pd.read_csv(\"result/4l10n-enc.result\", header=None, names=[\"4 level\"]).apply(formatting)\n",
    "enc5 = pd.read_csv(\"result/5l10n-enc.result\", header=None, names=[\"5 level\"]).apply(formatting)\n",
    "encryption_depth = pd.concat([enc2, enc3, enc4, enc5], axis =1)"
   ]
  },
  {
   "cell_type": "code",
   "execution_count": 245,
   "metadata": {},
   "outputs": [
    {
     "data": {
      "text/html": [
       "<div>\n",
       "<style scoped>\n",
       "    .dataframe tbody tr th:only-of-type {\n",
       "        vertical-align: middle;\n",
       "    }\n",
       "\n",
       "    .dataframe tbody tr th {\n",
       "        vertical-align: top;\n",
       "    }\n",
       "\n",
       "    .dataframe thead th {\n",
       "        text-align: right;\n",
       "    }\n",
       "</style>\n",
       "<table border=\"1\" class=\"dataframe\">\n",
       "  <thead>\n",
       "    <tr style=\"text-align: right;\">\n",
       "      <th></th>\n",
       "      <th>count</th>\n",
       "      <th>max</th>\n",
       "      <th>min</th>\n",
       "      <th>mean</th>\n",
       "      <th>std</th>\n",
       "    </tr>\n",
       "  </thead>\n",
       "  <tbody>\n",
       "    <tr>\n",
       "      <td>1K</td>\n",
       "      <td>1000.0</td>\n",
       "      <td>0.036</td>\n",
       "      <td>0.033</td>\n",
       "      <td>0.033999</td>\n",
       "      <td>0.000114</td>\n",
       "    </tr>\n",
       "    <tr>\n",
       "      <td>10K</td>\n",
       "      <td>1000.0</td>\n",
       "      <td>0.035</td>\n",
       "      <td>0.034</td>\n",
       "      <td>0.034042</td>\n",
       "      <td>0.000201</td>\n",
       "    </tr>\n",
       "    <tr>\n",
       "      <td>100K</td>\n",
       "      <td>1000.0</td>\n",
       "      <td>0.035</td>\n",
       "      <td>0.034</td>\n",
       "      <td>0.034387</td>\n",
       "      <td>0.000487</td>\n",
       "    </tr>\n",
       "    <tr>\n",
       "      <td>1M</td>\n",
       "      <td>1000.0</td>\n",
       "      <td>0.042</td>\n",
       "      <td>0.039</td>\n",
       "      <td>0.040063</td>\n",
       "      <td>0.000274</td>\n",
       "    </tr>\n",
       "  </tbody>\n",
       "</table>\n",
       "</div>"
      ],
      "text/plain": [
       "       count    max    min      mean       std\n",
       "1K    1000.0  0.036  0.033  0.033999  0.000114\n",
       "10K   1000.0  0.035  0.034  0.034042  0.000201\n",
       "100K  1000.0  0.035  0.034  0.034387  0.000487\n",
       "1M    1000.0  0.042  0.039  0.040063  0.000274"
      ]
     },
     "execution_count": 245,
     "metadata": {},
     "output_type": "execute_result"
    }
   ],
   "source": [
    "encryption_size.astype(\"float\").describe().loc[['count','max', 'min', 'mean', 'std']].transpose()"
   ]
  },
  {
   "cell_type": "code",
   "execution_count": 246,
   "metadata": {},
   "outputs": [
    {
     "data": {
      "text/html": [
       "<div>\n",
       "<style scoped>\n",
       "    .dataframe tbody tr th:only-of-type {\n",
       "        vertical-align: middle;\n",
       "    }\n",
       "\n",
       "    .dataframe tbody tr th {\n",
       "        vertical-align: top;\n",
       "    }\n",
       "\n",
       "    .dataframe thead th {\n",
       "        text-align: right;\n",
       "    }\n",
       "</style>\n",
       "<table border=\"1\" class=\"dataframe\">\n",
       "  <thead>\n",
       "    <tr style=\"text-align: right;\">\n",
       "      <th></th>\n",
       "      <th>count</th>\n",
       "      <th>max</th>\n",
       "      <th>min</th>\n",
       "      <th>mean</th>\n",
       "      <th>std</th>\n",
       "    </tr>\n",
       "  </thead>\n",
       "  <tbody>\n",
       "    <tr>\n",
       "      <td>1K</td>\n",
       "      <td>1000.0</td>\n",
       "      <td>0.010</td>\n",
       "      <td>0.009</td>\n",
       "      <td>0.009002</td>\n",
       "      <td>0.000045</td>\n",
       "    </tr>\n",
       "    <tr>\n",
       "      <td>10K</td>\n",
       "      <td>1000.0</td>\n",
       "      <td>0.010</td>\n",
       "      <td>0.009</td>\n",
       "      <td>0.009002</td>\n",
       "      <td>0.000045</td>\n",
       "    </tr>\n",
       "    <tr>\n",
       "      <td>100K</td>\n",
       "      <td>1000.0</td>\n",
       "      <td>0.010</td>\n",
       "      <td>0.009</td>\n",
       "      <td>0.009408</td>\n",
       "      <td>0.000492</td>\n",
       "    </tr>\n",
       "    <tr>\n",
       "      <td>1M</td>\n",
       "      <td>1000.0</td>\n",
       "      <td>0.016</td>\n",
       "      <td>0.015</td>\n",
       "      <td>0.015080</td>\n",
       "      <td>0.000271</td>\n",
       "    </tr>\n",
       "  </tbody>\n",
       "</table>\n",
       "</div>"
      ],
      "text/plain": [
       "       count    max    min      mean       std\n",
       "1K    1000.0  0.010  0.009  0.009002  0.000045\n",
       "10K   1000.0  0.010  0.009  0.009002  0.000045\n",
       "100K  1000.0  0.010  0.009  0.009408  0.000492\n",
       "1M    1000.0  0.016  0.015  0.015080  0.000271"
      ]
     },
     "execution_count": 246,
     "metadata": {},
     "output_type": "execute_result"
    }
   ],
   "source": [
    "decryption_size.astype(\"float\").describe().loc[['count','max', 'min', 'mean', 'std']].transpose()"
   ]
  },
  {
   "cell_type": "code",
   "execution_count": 247,
   "metadata": {},
   "outputs": [
    {
     "data": {
      "text/html": [
       "<div>\n",
       "<style scoped>\n",
       "    .dataframe tbody tr th:only-of-type {\n",
       "        vertical-align: middle;\n",
       "    }\n",
       "\n",
       "    .dataframe tbody tr th {\n",
       "        vertical-align: top;\n",
       "    }\n",
       "\n",
       "    .dataframe thead th {\n",
       "        text-align: right;\n",
       "    }\n",
       "</style>\n",
       "<table border=\"1\" class=\"dataframe\">\n",
       "  <thead>\n",
       "    <tr style=\"text-align: right;\">\n",
       "      <th></th>\n",
       "      <th>count</th>\n",
       "      <th>max</th>\n",
       "      <th>min</th>\n",
       "      <th>mean</th>\n",
       "      <th>std</th>\n",
       "    </tr>\n",
       "  </thead>\n",
       "  <tbody>\n",
       "    <tr>\n",
       "      <td>10</td>\n",
       "      <td>1000.0</td>\n",
       "      <td>0.104</td>\n",
       "      <td>0.080</td>\n",
       "      <td>0.080928</td>\n",
       "      <td>0.000880</td>\n",
       "    </tr>\n",
       "    <tr>\n",
       "      <td>20</td>\n",
       "      <td>1000.0</td>\n",
       "      <td>0.151</td>\n",
       "      <td>0.146</td>\n",
       "      <td>0.147442</td>\n",
       "      <td>0.000774</td>\n",
       "    </tr>\n",
       "    <tr>\n",
       "      <td>30</td>\n",
       "      <td>1000.0</td>\n",
       "      <td>0.240</td>\n",
       "      <td>0.211</td>\n",
       "      <td>0.213956</td>\n",
       "      <td>0.001574</td>\n",
       "    </tr>\n",
       "    <tr>\n",
       "      <td>40</td>\n",
       "      <td>1000.0</td>\n",
       "      <td>0.284</td>\n",
       "      <td>0.276</td>\n",
       "      <td>0.278359</td>\n",
       "      <td>0.001119</td>\n",
       "    </tr>\n",
       "  </tbody>\n",
       "</table>\n",
       "</div>"
      ],
      "text/plain": [
       "     count    max    min      mean       std\n",
       "10  1000.0  0.104  0.080  0.080928  0.000880\n",
       "20  1000.0  0.151  0.146  0.147442  0.000774\n",
       "30  1000.0  0.240  0.211  0.213956  0.001574\n",
       "40  1000.0  0.284  0.276  0.278359  0.001119"
      ]
     },
     "execution_count": 247,
     "metadata": {},
     "output_type": "execute_result"
    }
   ],
   "source": [
    "encryption_breadth.astype(\"float\").describe().loc[['count','max', 'min', 'mean', 'std']].transpose()"
   ]
  },
  {
   "cell_type": "code",
   "execution_count": 248,
   "metadata": {},
   "outputs": [
    {
     "data": {
      "text/html": [
       "<div>\n",
       "<style scoped>\n",
       "    .dataframe tbody tr th:only-of-type {\n",
       "        vertical-align: middle;\n",
       "    }\n",
       "\n",
       "    .dataframe tbody tr th {\n",
       "        vertical-align: top;\n",
       "    }\n",
       "\n",
       "    .dataframe thead th {\n",
       "        text-align: right;\n",
       "    }\n",
       "</style>\n",
       "<table border=\"1\" class=\"dataframe\">\n",
       "  <thead>\n",
       "    <tr style=\"text-align: right;\">\n",
       "      <th></th>\n",
       "      <th>count</th>\n",
       "      <th>max</th>\n",
       "      <th>min</th>\n",
       "      <th>mean</th>\n",
       "      <th>std</th>\n",
       "    </tr>\n",
       "  </thead>\n",
       "  <tbody>\n",
       "    <tr>\n",
       "      <td>10</td>\n",
       "      <td>1000.0</td>\n",
       "      <td>0.047</td>\n",
       "      <td>0.034</td>\n",
       "      <td>0.034343</td>\n",
       "      <td>0.000656</td>\n",
       "    </tr>\n",
       "    <tr>\n",
       "      <td>20</td>\n",
       "      <td>1000.0</td>\n",
       "      <td>0.060</td>\n",
       "      <td>0.055</td>\n",
       "      <td>0.055775</td>\n",
       "      <td>0.000798</td>\n",
       "    </tr>\n",
       "    <tr>\n",
       "      <td>30</td>\n",
       "      <td>1000.0</td>\n",
       "      <td>0.084</td>\n",
       "      <td>0.076</td>\n",
       "      <td>0.077699</td>\n",
       "      <td>0.001055</td>\n",
       "    </tr>\n",
       "    <tr>\n",
       "      <td>40</td>\n",
       "      <td>1000.0</td>\n",
       "      <td>0.107</td>\n",
       "      <td>0.098</td>\n",
       "      <td>0.099220</td>\n",
       "      <td>0.001171</td>\n",
       "    </tr>\n",
       "  </tbody>\n",
       "</table>\n",
       "</div>"
      ],
      "text/plain": [
       "     count    max    min      mean       std\n",
       "10  1000.0  0.047  0.034  0.034343  0.000656\n",
       "20  1000.0  0.060  0.055  0.055775  0.000798\n",
       "30  1000.0  0.084  0.076  0.077699  0.001055\n",
       "40  1000.0  0.107  0.098  0.099220  0.001171"
      ]
     },
     "execution_count": 248,
     "metadata": {},
     "output_type": "execute_result"
    }
   ],
   "source": [
    "decryption_breadth.astype(\"float\").describe().loc[['count','max', 'min', 'mean', 'std']].transpose()"
   ]
  },
  {
   "cell_type": "code",
   "execution_count": 249,
   "metadata": {},
   "outputs": [
    {
     "data": {
      "text/html": [
       "<div>\n",
       "<style scoped>\n",
       "    .dataframe tbody tr th:only-of-type {\n",
       "        vertical-align: middle;\n",
       "    }\n",
       "\n",
       "    .dataframe tbody tr th {\n",
       "        vertical-align: top;\n",
       "    }\n",
       "\n",
       "    .dataframe thead th {\n",
       "        text-align: right;\n",
       "    }\n",
       "</style>\n",
       "<table border=\"1\" class=\"dataframe\">\n",
       "  <thead>\n",
       "    <tr style=\"text-align: right;\">\n",
       "      <th></th>\n",
       "      <th>count</th>\n",
       "      <th>max</th>\n",
       "      <th>min</th>\n",
       "      <th>mean</th>\n",
       "      <th>std</th>\n",
       "    </tr>\n",
       "  </thead>\n",
       "  <tbody>\n",
       "    <tr>\n",
       "      <td>2 level</td>\n",
       "      <td>1000.0</td>\n",
       "      <td>0.104</td>\n",
       "      <td>0.080</td>\n",
       "      <td>0.080928</td>\n",
       "      <td>0.000880</td>\n",
       "    </tr>\n",
       "    <tr>\n",
       "      <td>3 level</td>\n",
       "      <td>1000.0</td>\n",
       "      <td>0.082</td>\n",
       "      <td>0.079</td>\n",
       "      <td>0.080144</td>\n",
       "      <td>0.000362</td>\n",
       "    </tr>\n",
       "    <tr>\n",
       "      <td>4 level</td>\n",
       "      <td>1000.0</td>\n",
       "      <td>0.108</td>\n",
       "      <td>0.079</td>\n",
       "      <td>0.080288</td>\n",
       "      <td>0.001005</td>\n",
       "    </tr>\n",
       "    <tr>\n",
       "      <td>5 level</td>\n",
       "      <td>1000.0</td>\n",
       "      <td>0.083</td>\n",
       "      <td>0.079</td>\n",
       "      <td>0.080366</td>\n",
       "      <td>0.000553</td>\n",
       "    </tr>\n",
       "  </tbody>\n",
       "</table>\n",
       "</div>"
      ],
      "text/plain": [
       "          count    max    min      mean       std\n",
       "2 level  1000.0  0.104  0.080  0.080928  0.000880\n",
       "3 level  1000.0  0.082  0.079  0.080144  0.000362\n",
       "4 level  1000.0  0.108  0.079  0.080288  0.001005\n",
       "5 level  1000.0  0.083  0.079  0.080366  0.000553"
      ]
     },
     "execution_count": 249,
     "metadata": {},
     "output_type": "execute_result"
    }
   ],
   "source": [
    "encryption_depth.astype(\"float\").describe().loc[['count','max', 'min', 'mean', 'std']].transpose()"
   ]
  },
  {
   "cell_type": "code",
   "execution_count": 250,
   "metadata": {},
   "outputs": [
    {
     "data": {
      "text/html": [
       "<div>\n",
       "<style scoped>\n",
       "    .dataframe tbody tr th:only-of-type {\n",
       "        vertical-align: middle;\n",
       "    }\n",
       "\n",
       "    .dataframe tbody tr th {\n",
       "        vertical-align: top;\n",
       "    }\n",
       "\n",
       "    .dataframe thead th {\n",
       "        text-align: right;\n",
       "    }\n",
       "</style>\n",
       "<table border=\"1\" class=\"dataframe\">\n",
       "  <thead>\n",
       "    <tr style=\"text-align: right;\">\n",
       "      <th></th>\n",
       "      <th>count</th>\n",
       "      <th>max</th>\n",
       "      <th>min</th>\n",
       "      <th>mean</th>\n",
       "      <th>std</th>\n",
       "    </tr>\n",
       "  </thead>\n",
       "  <tbody>\n",
       "    <tr>\n",
       "      <td>2 level</td>\n",
       "      <td>1000.0</td>\n",
       "      <td>0.047</td>\n",
       "      <td>0.034</td>\n",
       "      <td>0.034343</td>\n",
       "      <td>0.000656</td>\n",
       "    </tr>\n",
       "    <tr>\n",
       "      <td>3 level</td>\n",
       "      <td>1000.0</td>\n",
       "      <td>0.025</td>\n",
       "      <td>0.023</td>\n",
       "      <td>0.023537</td>\n",
       "      <td>0.000501</td>\n",
       "    </tr>\n",
       "    <tr>\n",
       "      <td>4 level</td>\n",
       "      <td>1000.0</td>\n",
       "      <td>0.018</td>\n",
       "      <td>0.017</td>\n",
       "      <td>0.017311</td>\n",
       "      <td>0.000463</td>\n",
       "    </tr>\n",
       "    <tr>\n",
       "      <td>5 level</td>\n",
       "      <td>1000.0</td>\n",
       "      <td>0.016</td>\n",
       "      <td>0.015</td>\n",
       "      <td>0.015253</td>\n",
       "      <td>0.000435</td>\n",
       "    </tr>\n",
       "  </tbody>\n",
       "</table>\n",
       "</div>"
      ],
      "text/plain": [
       "          count    max    min      mean       std\n",
       "2 level  1000.0  0.047  0.034  0.034343  0.000656\n",
       "3 level  1000.0  0.025  0.023  0.023537  0.000501\n",
       "4 level  1000.0  0.018  0.017  0.017311  0.000463\n",
       "5 level  1000.0  0.016  0.015  0.015253  0.000435"
      ]
     },
     "execution_count": 250,
     "metadata": {},
     "output_type": "execute_result"
    }
   ],
   "source": [
    "decryption_depth.astype(\"float\").describe().loc[['count','max', 'min', 'mean', 'std']].transpose()"
   ]
  },
  {
   "cell_type": "code",
   "execution_count": 251,
   "metadata": {},
   "outputs": [
    {
     "data": {
      "text/plain": [
       "<matplotlib.axes._subplots.AxesSubplot at 0x11e423f90>"
      ]
     },
     "execution_count": 251,
     "metadata": {},
     "output_type": "execute_result"
    },
    {
     "data": {
      "image/png": "[encoded data removed]",
      "text/plain": [
       "<Figure size 432x288 with 1 Axes>"
      ]
     },
     "metadata": {
      "needs_background": "light"
     },
     "output_type": "display_data"
    }
   ],
   "source": [
    "ax = encryption_size.astype(\"float\").mean().plot(legend=True, label='Encryption')\n",
    "ax.set_xlabel(\"Size\")\n",
    "ax.set_ylabel(\"Time in seconds\")\n",
    "decryption_size.astype(\"float\").mean().plot.line(ax=ax, legend=True, label=\"Decryption\")"
   ]
  },
  {
   "cell_type": "code",
   "execution_count": 258,
   "metadata": {},
   "outputs": [
    {
     "data": {
      "text/plain": [
       "<matplotlib.axes._subplots.AxesSubplot at 0x120d28590>"
      ]
     },
     "execution_count": 258,
     "metadata": {},
     "output_type": "execute_result"
    },
    {
     "data": {
      "image/png": "[encoded data removed]",
      "text/plain": [
       "<Figure size 432x288 with 1 Axes>"
      ]
     },
     "metadata": {
      "needs_background": "light"
     },
     "output_type": "display_data"
    }
   ],
   "source": [
    "encryption_breadth.astype(\"float\").std()\n",
    "ax = encryption_breadth.astype(\"float\").mean().plot(legend=True, label='Encryption')\n",
    "ax.set_xlabel(\"Number of leaf nodes\")\n",
    "ax.set_ylabel(\"Time in seconds\")\n",
    "decryption_breadth.astype(\"float\").mean().plot.line(ax=ax, legend=True, label=\"Decryption\")"
   ]
  },
  {
   "cell_type": "code",
   "execution_count": 254,
   "metadata": {},
   "outputs": [
    {
     "data": {
      "image/png": "[encoded data removed]",
      "text/plain": [
       "<Figure size 432x288 with 1 Axes>"
      ]
     },
     "metadata": {
      "needs_background": "light"
     },
     "output_type": "display_data"
    }
   ],
   "source": [
    "ax = encryption_depth.astype(\"float\").mean().plot(legend=True, label='Encryption')\n",
    "ax.set_xlabel(\"n-depth\")\n",
    "ax.set_ylabel(\"Time in seconds\")\n",
    "bx = decryption_depth.astype(\"float\").mean().plot.line(ax=ax, legend=True, label=\"Decryption\")"
   ]
  }
 ],
 "metadata": {
  "kernelspec": {
   "display_name": "Python 3",
   "language": "python",
   "name": "python3"
  },
  "language_info": {
   "codemirror_mode": {
    "name": "ipython",
    "version": 3
   },
   "file_extension": ".py",
   "mimetype": "text/x-python",
   "name": "python",
   "nbconvert_exporter": "python",
   "pygments_lexer": "ipython3",
   "version": "3.7.4"
  }
 },
 "nbformat": 4,
 "nbformat_minor": 2
}
